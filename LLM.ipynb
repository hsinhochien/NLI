{
 "cells": [
  {
   "cell_type": "code",
   "execution_count": 6,
   "metadata": {},
   "outputs": [],
   "source": [
    "import json\n",
    "from tqdm import tqdm\n",
    "import csv\n",
    "\n",
    "def load_json(filename):\n",
    "    with open(filename, 'r', encoding='utf-8') as file:\n",
    "        data = json.load(file)\n",
    "    return data\n",
    "\n",
    "file_path = \"/Users/hsinhochien/Documents/college/大三下/NLP/fp_2.2/Task 2.2/train.json\"\n",
    "train_data = load_json(file_path)\n",
    "\n",
    "file_path = \"/Users/hsinhochien/Documents/college/大三下/NLP/fp_2.2/Task 2.2/dev.json\"\n",
    "val_data = load_json(file_path)"
   ]
  },
  {
   "cell_type": "code",
   "execution_count": 3,
   "metadata": {},
   "outputs": [
    {
     "name": "stdout",
     "output_type": "stream",
     "text": [
      "Set Gemini API sucessfully!!\n"
     ]
    }
   ],
   "source": [
    "# Import packages\n",
    "import google.generativeai as genai\n",
    "from typing import List, Tuple\n",
    "import json\n",
    "\n",
    "# Set up Gemini API key\n",
    "## TODO: Fill in your Gemini API in the \"\"\n",
    "GOOGLE_API_KEY=\"\"\n",
    "genai.configure(api_key=GOOGLE_API_KEY)\n",
    "model = genai.GenerativeModel('gemini-pro')\n",
    "\n",
    "# Check if you have set your Gemini API successfully\n",
    "# You should see \"Set Gemini API sucessfully!!\" if nothing goes wrong.\n",
    "try:\n",
    "    model.generate_content(\n",
    "      \"test\",\n",
    "    )\n",
    "    print(\"Set Gemini API sucessfully!!\")\n",
    "except:\n",
    "    print(\"There seems to be something wrong with your Gemini API. Please follow our demonstration in the slide to get a correct one.\")"
   ]
  },
  {
   "cell_type": "code",
   "execution_count": 11,
   "metadata": {},
   "outputs": [],
   "source": [
    "prompt_1 = f\"Given two sentences, classify the relation between them into one of the following classes:\\n\"\\\n",
    "            \"Class 0: There is no detected relation between the two sentences.\\n\"\\\n",
    "            \"Class 1: There is a 'Support' relation from sentence 1 to sentence 2.\\n\"\\\n",
    "            \"Class 2: There is an 'Attack' relation from sentence 1 to sentence 2.\\n\"\\\n",
    "            \"Sentence 1: '{}'\\n\"\\\n",
    "            \"Sentence 2: '{}'\\n\"\\\n",
    "            \"Classify the relation between the two sentences:\"\n",
    "\n",
    "prompt_2 = f\"Given two sentences, classify the relation between them into one of the following classes:\\n\"\\\n",
    "            \"Class 0: There is no detected relation between the two sentences.\\n\"\\\n",
    "            \"Class 1: There is a 'Support' relation from sentence 1 to sentence 2.\\n\"\\\n",
    "            \"        Explanation: Sentence 1 provides evidence, justification, or reinforcement for sentence 2.\\n\"\\\n",
    "            \"Class 2: There is an 'Attack' relation from sentence 1 to sentence 2.\\n\"\\\n",
    "            \"        Explanation: Sentence 1 undermines, contradicts, or challenges the validity of sentence 2.\\n\"\\\n",
    "            \"Sentence 1: '{}'\\n\"\\\n",
    "            \"Sentence 2: '{}'\\n\"\\\n",
    "            \"Please carefully analyze the semantic relationship between the two sentences before making a classification.\\n\"\\\n",
    "            \"Remember to consider both the explicit and implicit meanings of the sentences.\\n\"\\\n",
    "            \"Example Usage: If the two sentences are:\\n\"\\\n",
    "            \"Sentence 1: 'Japan as a geography for us is a high transactional market.'\\n\"\\\n",
    "            \"Sentence 2: 'The improvement in that in Q3 is obviously very high margin and also the bottom.'\\n\"\\\n",
    "            \"then the relationship between them is support.\"\n",
    "\n",
    "# Define the function to classify the relation between two sentences\n",
    "def classify_relation(p, sentence_1, sentence_2):\n",
    "    prompt = p.format(sentence_1, sentence_2)\n",
    "    response = model.generate_content(prompt)\n",
    "    # Check if response contains a valid Part\n",
    "    if response.parts:\n",
    "        raw_response = response.parts[0].text\n",
    "    else:\n",
    "        # If response is blocked, return None\n",
    "        raw_response = None\n",
    "\n",
    "    if raw_response:\n",
    "        # Extract the predicted class from the response\n",
    "        parts = raw_response.split(\":\")\n",
    "        class_value = parts[0].strip().split()[1]\n",
    "        class_value_str = str(class_value)\n",
    "        predicted_class = int(class_value_str.split('.')[0])\n",
    "    else:\n",
    "        predicted_class = None\n",
    "\n",
    "    return raw_response, predicted_class\n",
    "\n",
    "def calculate_accuracy(predicted_classes, actual_classes):\n",
    "    correct_predictions = sum(1 for pred, actual in zip(predicted_classes, actual_classes) if pred == actual)\n",
    "    total_predictions = len(actual_classes)\n",
    "    accuracy = correct_predictions / total_predictions\n",
    "    return accuracy"
   ]
  },
  {
   "cell_type": "markdown",
   "metadata": {},
   "source": [
    "### prompt 1"
   ]
  },
  {
   "cell_type": "code",
   "execution_count": 46,
   "metadata": {},
   "outputs": [
    {
     "name": "stderr",
     "output_type": "stream",
     "text": [
      "100%|██████████| 690/690 [13:26<00:00,  1.17s/it]\n"
     ]
    }
   ],
   "source": [
    "actual_classes = []\n",
    "raw_responses = []\n",
    "predicted_classes = []\n",
    "\n",
    "for sentence_pair in tqdm(val_data):\n",
    "    sentence_1, sentence_2, label = sentence_pair\n",
    "    actual_classes.append(label)\n",
    "    raw_response, predicted_class = classify_relation(prompt_1, sentence_1, sentence_2)\n",
    "    raw_responses.append(raw_response)\n",
    "    predicted_classes.append(predicted_class)"
   ]
  },
  {
   "cell_type": "code",
   "execution_count": 47,
   "metadata": {},
   "outputs": [
    {
     "name": "stdout",
     "output_type": "stream",
     "text": [
      "Predictions saved to raw_responses_1.json\n",
      "Predictions saved to predicted_classes_1.json\n"
     ]
    }
   ],
   "source": [
    "# Save raw responses to a JSON file\n",
    "with open(\"raw_responses_1.json\", \"w\") as json_file:\n",
    "    json.dump(raw_responses, json_file)\n",
    "\n",
    "print(f\"Predictions saved to raw_responses_1.json\")\n",
    "\n",
    "# Save predicted classes to a CSV file\n",
    "with open(\"predicted_classes_1.csv\", \"w\", newline=\"\") as csv_file:\n",
    "    writer = csv.writer(csv_file)\n",
    "    writer.writerow([\"Prediction\", \"True Label\"])\n",
    "    writer.writerows(zip(predicted_classes, actual_classes))\n",
    "\n",
    "print(f\"Predictions saved to predicted_classes_1.json\")"
   ]
  },
  {
   "cell_type": "code",
   "execution_count": 48,
   "metadata": {},
   "outputs": [
    {
     "name": "stdout",
     "output_type": "stream",
     "text": [
      "Accuracy for prompt 1: 0.5057971014492754\n"
     ]
    }
   ],
   "source": [
    "accuracy = calculate_accuracy(predicted_classes, actual_classes)\n",
    "print(\"Accuracy for prompt 1:\", accuracy)"
   ]
  },
  {
   "cell_type": "markdown",
   "metadata": {},
   "source": [
    "### prompt 2"
   ]
  },
  {
   "cell_type": "code",
   "execution_count": 12,
   "metadata": {},
   "outputs": [
    {
     "name": "stderr",
     "output_type": "stream",
     "text": [
      "100%|██████████| 690/690 [16:21<00:00,  1.42s/it]\n"
     ]
    }
   ],
   "source": [
    "actual_classes = []\n",
    "raw_responses = []\n",
    "predicted_classes = []\n",
    "\n",
    "for sentence_pair in tqdm(val_data):\n",
    "    sentence_1, sentence_2, label = sentence_pair\n",
    "    actual_classes.append(label)\n",
    "    raw_response, predicted_class = classify_relation(prompt_2, sentence_1, sentence_2)\n",
    "    raw_responses.append(raw_response)\n",
    "    predicted_classes.append(predicted_class)"
   ]
  },
  {
   "cell_type": "code",
   "execution_count": 13,
   "metadata": {},
   "outputs": [
    {
     "name": "stdout",
     "output_type": "stream",
     "text": [
      "Predictions saved to raw_responses_2.json\n",
      "Predictions saved to predicted_classes_2.json\n"
     ]
    }
   ],
   "source": [
    "# Save raw responses to a JSON file\n",
    "with open(\"raw_responses_2.json\", \"w\") as json_file:\n",
    "    json.dump(raw_responses, json_file)\n",
    "\n",
    "print(f\"Predictions saved to raw_responses_2.json\")\n",
    "\n",
    "# Save predicted classes to a CSV file\n",
    "with open(\"predicted_classes_2.csv\", \"w\", newline=\"\") as csv_file:\n",
    "    writer = csv.writer(csv_file)\n",
    "    writer.writerow([\"Prediction\", \"True Label\"])\n",
    "    writer.writerows(zip(predicted_classes, actual_classes))\n",
    "\n",
    "print(f\"Predictions saved to predicted_classes_2.json\")"
   ]
  },
  {
   "cell_type": "code",
   "execution_count": 14,
   "metadata": {},
   "outputs": [
    {
     "name": "stdout",
     "output_type": "stream",
     "text": [
      "Accuracy for prompt 2: 0.5681159420289855\n"
     ]
    }
   ],
   "source": [
    "accuracy = calculate_accuracy(predicted_classes, actual_classes)\n",
    "print(\"Accuracy for prompt 2:\", accuracy)"
   ]
  },
  {
   "cell_type": "code",
   "execution_count": null,
   "metadata": {},
   "outputs": [],
   "source": []
  }
 ],
 "metadata": {
  "kernelspec": {
   "display_name": "Python 3",
   "language": "python",
   "name": "python3"
  },
  "language_info": {
   "codemirror_mode": {
    "name": "ipython",
    "version": 3
   },
   "file_extension": ".py",
   "mimetype": "text/x-python",
   "name": "python",
   "nbconvert_exporter": "python",
   "pygments_lexer": "ipython3",
   "version": "3.10.11"
  }
 },
 "nbformat": 4,
 "nbformat_minor": 2
}
